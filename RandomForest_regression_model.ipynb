{
 "cells": [
  {
   "cell_type": "code",
   "execution_count": 35,
   "id": "alternative-senator",
   "metadata": {},
   "outputs": [],
   "source": [
    "import matplotlib.pyplot as plt\n",
    "import pandas as pd\n",
    "import numpy as np\n",
    "\n",
    "import itertools\n",
    "\n",
    "from sklearn.model_selection import train_test_split\n",
    "from sklearn.ensemble import RandomForestRegressor\n",
    "from sklearn import metrics\n",
    "# For grid search\n",
    "from sklearn.model_selection import GridSearchCV\n",
    "\n",
    "import functions as fc\n",
    "\n",
    "plt.rcParams[\"font.family\"] = \"Times New Roman\"     # Font\n",
    "plt.rcParams[\"font.size\"] = 12                      # the size of the font\n",
    "plt.rcParams[\"xtick.direction\"] = \"out\"             \n",
    "plt.rcParams[\"ytick.direction\"] = \"out\"  \n",
    "plt.rcParams[\"axes.linewidth\"] = 1.0                # the width of the outside line\n",
    "plt.rcParams['figure.dpi'] = 100\n",
    "plt.rcParams['figure.figsize'] = (6, 4)"
   ]
  },
  {
   "cell_type": "code",
   "execution_count": 36,
   "id": "pleased-smith",
   "metadata": {},
   "outputs": [
    {
     "data": {
      "text/html": [
       "<div>\n",
       "<style scoped>\n",
       "    .dataframe tbody tr th:only-of-type {\n",
       "        vertical-align: middle;\n",
       "    }\n",
       "\n",
       "    .dataframe tbody tr th {\n",
       "        vertical-align: top;\n",
       "    }\n",
       "\n",
       "    .dataframe thead th {\n",
       "        text-align: right;\n",
       "    }\n",
       "</style>\n",
       "<table border=\"1\" class=\"dataframe\">\n",
       "  <thead>\n",
       "    <tr style=\"text-align: right;\">\n",
       "      <th></th>\n",
       "      <th>Ti</th>\n",
       "      <th>Nb</th>\n",
       "      <th>Al</th>\n",
       "      <th>Zr</th>\n",
       "      <th>Mo</th>\n",
       "      <th>Sn</th>\n",
       "      <th>Cr</th>\n",
       "      <th>stratify</th>\n",
       "      <th>Mo_Equiavalent</th>\n",
       "      <th>Mo_Equiavalent2</th>\n",
       "      <th>...</th>\n",
       "      <th>Root_Cold_Rolling_Rate</th>\n",
       "      <th>Homonization_Temperature</th>\n",
       "      <th>Homonization_Time</th>\n",
       "      <th>Solution_Treatment_Temperature</th>\n",
       "      <th>Solution_Treatment_Time</th>\n",
       "      <th>Beta_phase</th>\n",
       "      <th>alpha\"_phase</th>\n",
       "      <th>Elongation</th>\n",
       "      <th>UTS</th>\n",
       "      <th>References</th>\n",
       "    </tr>\n",
       "  </thead>\n",
       "  <tbody>\n",
       "    <tr>\n",
       "      <th>0</th>\n",
       "      <td>80.0</td>\n",
       "      <td>20.0</td>\n",
       "      <td>0.0</td>\n",
       "      <td>0</td>\n",
       "      <td>0.0</td>\n",
       "      <td>0.0</td>\n",
       "      <td>0.0</td>\n",
       "      <td>a</td>\n",
       "      <td>0.127414</td>\n",
       "      <td>0.091477</td>\n",
       "      <td>...</td>\n",
       "      <td>9.746794</td>\n",
       "      <td>nd</td>\n",
       "      <td>nd</td>\n",
       "      <td>1173</td>\n",
       "      <td>1800</td>\n",
       "      <td>0</td>\n",
       "      <td>1</td>\n",
       "      <td>40.0</td>\n",
       "      <td>520.0</td>\n",
       "      <td>Kim, Hee Young, et al. 2004. Materials Transac...</td>\n",
       "    </tr>\n",
       "    <tr>\n",
       "      <th>1</th>\n",
       "      <td>78.0</td>\n",
       "      <td>22.0</td>\n",
       "      <td>0.0</td>\n",
       "      <td>0</td>\n",
       "      <td>0.0</td>\n",
       "      <td>0.0</td>\n",
       "      <td>0.0</td>\n",
       "      <td>a</td>\n",
       "      <td>0.137971</td>\n",
       "      <td>0.099056</td>\n",
       "      <td>...</td>\n",
       "      <td>9.746794</td>\n",
       "      <td>nd</td>\n",
       "      <td>nd</td>\n",
       "      <td>1173</td>\n",
       "      <td>1800</td>\n",
       "      <td>0</td>\n",
       "      <td>1</td>\n",
       "      <td>33.0</td>\n",
       "      <td>560.0</td>\n",
       "      <td>NaN</td>\n",
       "    </tr>\n",
       "    <tr>\n",
       "      <th>2</th>\n",
       "      <td>76.0</td>\n",
       "      <td>24.0</td>\n",
       "      <td>0.0</td>\n",
       "      <td>0</td>\n",
       "      <td>0.0</td>\n",
       "      <td>0.0</td>\n",
       "      <td>0.0</td>\n",
       "      <td>a</td>\n",
       "      <td>0.148203</td>\n",
       "      <td>0.106402</td>\n",
       "      <td>...</td>\n",
       "      <td>9.746794</td>\n",
       "      <td>nd</td>\n",
       "      <td>nd</td>\n",
       "      <td>1173</td>\n",
       "      <td>1800</td>\n",
       "      <td>1</td>\n",
       "      <td>1</td>\n",
       "      <td>24.0</td>\n",
       "      <td>455.0</td>\n",
       "      <td>NaN</td>\n",
       "    </tr>\n",
       "    <tr>\n",
       "      <th>3</th>\n",
       "      <td>74.0</td>\n",
       "      <td>26.0</td>\n",
       "      <td>0.0</td>\n",
       "      <td>0</td>\n",
       "      <td>0.0</td>\n",
       "      <td>0.0</td>\n",
       "      <td>0.0</td>\n",
       "      <td>a</td>\n",
       "      <td>0.158126</td>\n",
       "      <td>0.113526</td>\n",
       "      <td>...</td>\n",
       "      <td>9.746794</td>\n",
       "      <td>nd</td>\n",
       "      <td>nd</td>\n",
       "      <td>1173</td>\n",
       "      <td>1800</td>\n",
       "      <td>1</td>\n",
       "      <td>1</td>\n",
       "      <td>17.0</td>\n",
       "      <td>425.0</td>\n",
       "      <td>NaN</td>\n",
       "    </tr>\n",
       "    <tr>\n",
       "      <th>4</th>\n",
       "      <td>72.0</td>\n",
       "      <td>28.0</td>\n",
       "      <td>0.0</td>\n",
       "      <td>0</td>\n",
       "      <td>0.0</td>\n",
       "      <td>0.0</td>\n",
       "      <td>0.0</td>\n",
       "      <td>a</td>\n",
       "      <td>0.167753</td>\n",
       "      <td>0.120438</td>\n",
       "      <td>...</td>\n",
       "      <td>9.746794</td>\n",
       "      <td>nd</td>\n",
       "      <td>nd</td>\n",
       "      <td>1173</td>\n",
       "      <td>1800</td>\n",
       "      <td>1</td>\n",
       "      <td>0</td>\n",
       "      <td>10.0</td>\n",
       "      <td>525.0</td>\n",
       "      <td>NaN</td>\n",
       "    </tr>\n",
       "  </tbody>\n",
       "</table>\n",
       "<p>5 rows × 28 columns</p>\n",
       "</div>"
      ],
      "text/plain": [
       "     Ti    Nb   Al  Zr   Mo   Sn   Cr stratify  Mo_Equiavalent  \\\n",
       "0  80.0  20.0  0.0   0  0.0  0.0  0.0        a        0.127414   \n",
       "1  78.0  22.0  0.0   0  0.0  0.0  0.0        a        0.137971   \n",
       "2  76.0  24.0  0.0   0  0.0  0.0  0.0        a        0.148203   \n",
       "3  74.0  26.0  0.0   0  0.0  0.0  0.0        a        0.158126   \n",
       "4  72.0  28.0  0.0   0  0.0  0.0  0.0        a        0.167753   \n",
       "\n",
       "   Mo_Equiavalent2  ...  Root_Cold_Rolling_Rate  Homonization_Temperature  \\\n",
       "0         0.091477  ...                9.746794                        nd   \n",
       "1         0.099056  ...                9.746794                        nd   \n",
       "2         0.106402  ...                9.746794                        nd   \n",
       "3         0.113526  ...                9.746794                        nd   \n",
       "4         0.120438  ...                9.746794                        nd   \n",
       "\n",
       "   Homonization_Time  Solution_Treatment_Temperature  Solution_Treatment_Time  \\\n",
       "0                 nd                            1173                     1800   \n",
       "1                 nd                            1173                     1800   \n",
       "2                 nd                            1173                     1800   \n",
       "3                 nd                            1173                     1800   \n",
       "4                 nd                            1173                     1800   \n",
       "\n",
       "   Beta_phase  alpha\"_phase  Elongation    UTS  \\\n",
       "0           0             1        40.0  520.0   \n",
       "1           0             1        33.0  560.0   \n",
       "2           1             1        24.0  455.0   \n",
       "3           1             1        17.0  425.0   \n",
       "4           1             0        10.0  525.0   \n",
       "\n",
       "                                          References  \n",
       "0  Kim, Hee Young, et al. 2004. Materials Transac...  \n",
       "1                                                NaN  \n",
       "2                                                NaN  \n",
       "3                                                NaN  \n",
       "4                                                NaN  \n",
       "\n",
       "[5 rows x 28 columns]"
      ]
     },
     "execution_count": 36,
     "metadata": {},
     "output_type": "execute_result"
    }
   ],
   "source": [
    "# Load data\n",
    "dataset = pd.read_csv(\"all_properties_data.csv\")\n",
    "dataset.head()"
   ]
  },
  {
   "cell_type": "code",
   "execution_count": 37,
   "id": "dying-label",
   "metadata": {},
   "outputs": [
    {
     "name": "stdout",
     "output_type": "stream",
     "text": [
      "<class 'pandas.core.frame.DataFrame'>\n",
      "RangeIndex: 107 entries, 0 to 106\n",
      "Data columns (total 28 columns):\n",
      " #   Column                          Non-Null Count  Dtype  \n",
      "---  ------                          --------------  -----  \n",
      " 0   Ti                              107 non-null    float64\n",
      " 1   Nb                              107 non-null    float64\n",
      " 2   Al                              107 non-null    float64\n",
      " 3   Zr                              107 non-null    int64  \n",
      " 4   Mo                              107 non-null    float64\n",
      " 5   Sn                              107 non-null    float64\n",
      " 6   Cr                              107 non-null    float64\n",
      " 7   stratify                        107 non-null    object \n",
      " 8   Mo_Equiavalent                  107 non-null    float64\n",
      " 9   Mo_Equiavalent2                 107 non-null    float64\n",
      " 10  Atomic_Number                   107 non-null    float64\n",
      " 11  e/a                             107 non-null    float64\n",
      " 12  Average_Atom_Radius             107 non-null    float64\n",
      " 13  Delta                           107 non-null    float64\n",
      " 14  Electronegativity               107 non-null    float64\n",
      " 15  Bo                              107 non-null    float64\n",
      " 16  Md                              107 non-null    float64\n",
      " 17  Cold_Rolling_Rate               107 non-null    float64\n",
      " 18  Root_Cold_Rolling_Rate          107 non-null    float64\n",
      " 19  Homonization_Temperature        107 non-null    object \n",
      " 20  Homonization_Time               107 non-null    object \n",
      " 21  Solution_Treatment_Temperature  107 non-null    int64  \n",
      " 22  Solution_Treatment_Time         107 non-null    int64  \n",
      " 23  Beta_phase                      107 non-null    int64  \n",
      " 24  alpha\"_phase                    107 non-null    int64  \n",
      " 25  Elongation                      107 non-null    float64\n",
      " 26  UTS                             107 non-null    float64\n",
      " 27  References                      11 non-null     object \n",
      "dtypes: float64(19), int64(5), object(4)\n",
      "memory usage: 23.5+ KB\n"
     ]
    }
   ],
   "source": [
    "dataset.info()"
   ]
  },
  {
   "cell_type": "markdown",
   "id": "embedded-cleaners",
   "metadata": {},
   "source": [
    "## HyperParameter Tuning for the UTS model"
   ]
  },
  {
   "cell_type": "code",
   "execution_count": 38,
   "id": "vocational-vision",
   "metadata": {},
   "outputs": [],
   "source": [
    "# Split data into x and y based on the feature selection\n",
    "y = dataset[['UTS']]\n",
    "X = dataset[['Ti', 'Mo_Equiavalent2', 'Delta', 'Electronegativity', 'Bo', 'Cold_Rolling_Rate']]\n",
    "\n",
    "X_train, X_test, y_train, y_test = train_test_split(X, y,\n",
    "                                                    stratify = dataset['stratify'], test_size=0.2, random_state=2361)"
   ]
  },
  {
   "cell_type": "code",
   "execution_count": 39,
   "id": "complete-greene",
   "metadata": {},
   "outputs": [
    {
     "name": "stdout",
     "output_type": "stream",
     "text": [
      "Fitting 3 folds for each of 700 candidates, totalling 2100 fits\n"
     ]
    },
    {
     "name": "stderr",
     "output_type": "stream",
     "text": [
      "c:\\users\\ichis\\.pyenv\\pyenv-win\\versions\\3.8.2\\lib\\site-packages\\sklearn\\model_selection\\_search.py:880: DataConversionWarning: A column-vector y was passed when a 1d array was expected. Please change the shape of y to (n_samples,), for example using ravel().\n",
      "  self.best_estimator_.fit(X, y, **fit_params)\n"
     ]
    },
    {
     "data": {
      "text/plain": [
       "RandomForestRegressor(max_depth=3, min_samples_split=30, n_estimators=10,\n",
       "                      n_jobs=1, random_state=2525)"
      ]
     },
     "execution_count": 39,
     "metadata": {},
     "output_type": "execute_result"
    }
   ],
   "source": [
    "# Implement a gridsearch.\n",
    "search_params = {\n",
    "    'n_estimators'      : [5, 10, 20, 30, 50, 100, 300],\n",
    "    'random_state'      : [2525],\n",
    "    'n_jobs'            : [1],\n",
    "    'min_samples_split' : [3, 5, 10, 15, 20, 25, 30, 40, 50, 100],\n",
    "    'max_depth'         : [3, 5, 10, 15, 20, 25, 30, 40, 50, 100]\n",
    "}\n",
    " \n",
    "gridsearch_model = GridSearchCV(\n",
    "    RandomForestRegressor(),\n",
    "    search_params,\n",
    "    cv = 3,\n",
    "    n_jobs = -1,\n",
    "    verbose=True\n",
    ")\n",
    " \n",
    "gridsearch_model.fit(X_train, y_train)\n",
    "\n",
    "# Show a best model.\n",
    "gridsearch_model.best_estimator_"
   ]
  },
  {
   "cell_type": "code",
   "execution_count": 40,
   "id": "patient-climb",
   "metadata": {},
   "outputs": [
    {
     "name": "stderr",
     "output_type": "stream",
     "text": [
      "<ipython-input-40-28390bf9b8a7>:9: DataConversionWarning: A column-vector y was passed when a 1d array was expected. Please change the shape of y to (n_samples,), for example using ravel().\n",
      "  rfr_UTS.fit(X_train, y_train)\n",
      "C:\\dev\\python\\Machine_learning_based_prediction_of_mechanical_properties_of_bTiSMAS\\functions.py:12: DataConversionWarning: A column-vector y was passed when a 1d array was expected. Please change the shape of y to (n_samples,), for example using ravel().\n",
      "  model.fit(X_train, y_train)\n"
     ]
    }
   ],
   "source": [
    "X_train, X_test, y_train, y_test = train_test_split(X, y, stratify = dataset['stratify'], \n",
    "                                                    test_size=0.2, random_state=2361)\n",
    "\n",
    "rfr_UTS = RandomForestRegressor(n_estimators=10, max_depth = 3,\n",
    "                            min_samples_split=30,\n",
    "                            random_state=2525,\n",
    "                            bootstrap=True)\n",
    "\n",
    "rfr_UTS.fit(X_train, y_train)\n",
    "\n",
    "predictions_test = rfr_UTS.predict(X_test)\n",
    "predictions_train = rfr_UTS.predict(X_train)\n",
    "\n",
    "r2_train, r2_test, MAE_test, MSE_test, RMSE_test = fc.model_evaluation(rfr_UTS, X_train, X_test, y_train, y_test)"
   ]
  },
  {
   "cell_type": "code",
   "execution_count": 41,
   "id": "defensive-portal",
   "metadata": {},
   "outputs": [
    {
     "name": "stderr",
     "output_type": "stream",
     "text": [
      "<ipython-input-41-dd1f0c984cd4>:19: UserWarning: Matplotlib is currently using module://ipykernel.pylab.backend_inline, which is a non-GUI backend, so cannot show the figure.\n",
      "  fig.show()\n"
     ]
    },
    {
     "data": {
      "image/png": "[encoded data removed]",
      "text/plain": [
       "<Figure size 600x400 with 1 Axes>"
      ]
     },
     "metadata": {
      "needs_background": "light"
     },
     "output_type": "display_data"
    }
   ],
   "source": [
    "# Create a figure\n",
    "x = np.linspace(250, 900)\n",
    "y_diagonal = x\n",
    "\n",
    "fig = plt.figure()\n",
    "ax = fig.add_subplot(1, 1, 1)\n",
    "\n",
    "line1 = ax.plot(x, y_diagonal, c='black')\n",
    "scatter2 = ax.scatter(y_train, predictions_train, c='blue', alpha=0.5, edgecolor='blue', linewidths=0.5, label='Training dataset')\n",
    "scatter1 = ax.scatter(y_test, predictions_test, c='red',marker=\"D\",alpha=0.5, edgecolor='red', linewidths=0.5, label='Test dataset')\n",
    "\n",
    "ax.set_xlim(250, 900)\n",
    "ax.set_ylim(250, 900)\n",
    "ax.legend()\n",
    "# ax.set_title('Predicted UTS (by LIN) vs. Measured UTS')\n",
    "ax.set_xlabel('Measured UTS / MPa')\n",
    "ax.set_ylabel('Predicted UTS / MPa')\n",
    "# plt.savefig('Random_forest_regression_UTS.png', bbox_inches=\"tight\", pad_inches=0.05)\n",
    "fig.show()"
   ]
  },
  {
   "cell_type": "markdown",
   "id": "lovely-iraqi",
   "metadata": {},
   "source": [
    "## HyperParameter Tuning for the Elongation model"
   ]
  },
  {
   "cell_type": "code",
   "execution_count": 60,
   "id": "tender-medline",
   "metadata": {},
   "outputs": [],
   "source": [
    "# Split data into x and y based on the feature selection\n",
    "y = dataset[['Elongation']]\n",
    "X = dataset[['Ti', 'Mo_Equiavalent2', 'Delta', 'Electronegativity', 'Bo', 'Cold_Rolling_Rate']]\n",
    "\n",
    "X_train, X_test, y_train, y_test = train_test_split(X, y,\n",
    "                                                    stratify = dataset['stratify'], test_size=0.2, random_state=2361)"
   ]
  },
  {
   "cell_type": "code",
   "execution_count": 61,
   "id": "civil-auction",
   "metadata": {},
   "outputs": [
    {
     "name": "stdout",
     "output_type": "stream",
     "text": [
      "Fitting 5 folds for each of 10 candidates, totalling 50 fits\n"
     ]
    },
    {
     "name": "stderr",
     "output_type": "stream",
     "text": [
      "c:\\users\\ichis\\.pyenv\\pyenv-win\\versions\\3.8.2\\lib\\site-packages\\sklearn\\model_selection\\_search.py:880: DataConversionWarning: A column-vector y was passed when a 1d array was expected. Please change the shape of y to (n_samples,), for example using ravel().\n",
      "  self.best_estimator_.fit(X, y, **fit_params)\n"
     ]
    },
    {
     "data": {
      "text/plain": [
       "{'n_estimators': 1400,\n",
       " 'min_samples_split': 5,\n",
       " 'min_samples_leaf': 1,\n",
       " 'max_features': 'auto',\n",
       " 'max_depth': 60,\n",
       " 'bootstrap': True}"
      ]
     },
     "execution_count": 61,
     "metadata": {},
     "output_type": "execute_result"
    }
   ],
   "source": [
    "from sklearn.model_selection import RandomizedSearchCV\n",
    "\n",
    "# Use the random grid to search for best hyperparameters\n",
    "rf = RandomForestRegressor()\n",
    "\n",
    "# Random search of parameters, using 3 fold cross validation, \n",
    "# search across 100 different combinations, and use all available cores\n",
    "gridsearch_model_elongation = RandomizedSearchCV(estimator = rf, param_distributions = random_grid, n_iter = 10, verbose=2, random_state=42, n_jobs = -1)\n",
    "\n",
    "# Fit the random search model\n",
    "gridsearch_model_elongation.fit(X_train, y_train)\n",
    "\n",
    "gridsearch_model_elongation.best_params_"
   ]
  },
  {
   "cell_type": "code",
   "execution_count": 62,
   "id": "announced-offer",
   "metadata": {},
   "outputs": [
    {
     "name": "stderr",
     "output_type": "stream",
     "text": [
      "<ipython-input-62-495e01ff4fd1>:8: DataConversionWarning: A column-vector y was passed when a 1d array was expected. Please change the shape of y to (n_samples,), for example using ravel().\n",
      "  rfr_elongation.fit(X_train, y_train)\n",
      "C:\\dev\\python\\Machine_learning_based_prediction_of_mechanical_properties_of_bTiSMAS\\functions.py:12: DataConversionWarning: A column-vector y was passed when a 1d array was expected. Please change the shape of y to (n_samples,), for example using ravel().\n",
      "  model.fit(X_train, y_train)\n"
     ]
    }
   ],
   "source": [
    "X_train, X_test, y_train, y_test = train_test_split(X, y, stratify = dataset['stratify'], \n",
    "                                                    test_size=0.2, random_state=2361)\n",
    "\n",
    "rfr_elongation = RandomForestRegressor(n_estimators=1400, max_depth = 60,\n",
    "                            min_samples_split=5, min_samples_leaf=1,\n",
    "                            max_features=\"auto\", bootstrap=True)\n",
    "\n",
    "rfr_elongation.fit(X_train, y_train)\n",
    "\n",
    "predictions_test = rfr_elongation.predict(X_test)\n",
    "predictions_train = rfr_elongation.predict(X_train)\n",
    "\n",
    "r2_train, r2_test, MAE_test, MSE_test, RMSE_test = fc.model_evaluation(rfr_elongation, X_train, X_test, y_train, y_test)"
   ]
  },
  {
   "cell_type": "code",
   "execution_count": 63,
   "id": "choice-commitment",
   "metadata": {},
   "outputs": [
    {
     "name": "stderr",
     "output_type": "stream",
     "text": [
      "<ipython-input-63-f3d5b2b98f22>:19: UserWarning: Matplotlib is currently using module://ipykernel.pylab.backend_inline, which is a non-GUI backend, so cannot show the figure.\n",
      "  fig.show()\n"
     ]
    },
    {
     "data": {
      "image/png": "[encoded data removed]",
      "text/plain": [
       "<Figure size 600x400 with 1 Axes>"
      ]
     },
     "metadata": {
      "needs_background": "light"
     },
     "output_type": "display_data"
    }
   ],
   "source": [
    "# Create a figure\n",
    "x = np.linspace(0, 50)\n",
    "y_diagonal = x\n",
    "\n",
    "fig = plt.figure()\n",
    "ax = fig.add_subplot(1, 1, 1)\n",
    "\n",
    "line1 = ax.plot(x, y_diagonal, c='black')\n",
    "scatter2 = ax.scatter(y_train, predictions_train, c='blue', alpha=0.5, edgecolor='blue', linewidths=0.5, label='Training dataset')\n",
    "scatter1 = ax.scatter(y_test, predictions_test, c='red',marker=\"D\",alpha=0.5, edgecolor='red', linewidths=0.5, label='Test dataset')\n",
    "\n",
    "ax.set_xlim(0, 50)\n",
    "ax.set_ylim(0, 50)\n",
    "ax.legend()\n",
    "# ax.set_title('Predicted Elongation (by LIN) vs. Measured Elongation')\n",
    "ax.set_xlabel('Measured Elongation / %')\n",
    "ax.set_ylabel('Predicted Elongation / %')\n",
    "# plt.savefig('regression_elongation.png', bbox_inches=\"tight\", pad_inches=0.05)\n",
    "fig.show()"
   ]
  },
  {
   "cell_type": "code",
   "execution_count": 64,
   "id": "turkish-costs",
   "metadata": {},
   "outputs": [
    {
     "data": {
      "text/plain": [
       "['RandomForest_regression_elongation.joblib']"
      ]
     },
     "execution_count": 64,
     "metadata": {},
     "output_type": "execute_result"
    }
   ],
   "source": [
    "from joblib import dump, load\n",
    "dump(rfr_UTS, 'RandomForest_regresssion_UTS.joblib')\n",
    "dump(rfr_elongation, 'RandomForest_regression_elongation.joblib')"
   ]
  },
  {
   "cell_type": "code",
   "execution_count": null,
   "id": "legitimate-carroll",
   "metadata": {},
   "outputs": [],
   "source": []
  }
 ],
 "metadata": {
  "kernelspec": {
   "display_name": "Python 3",
   "language": "python",
   "name": "python3"
  },
  "language_info": {
   "codemirror_mode": {
    "name": "ipython",
    "version": 3
   },
   "file_extension": ".py",
   "mimetype": "text/x-python",
   "name": "python",
   "nbconvert_exporter": "python",
   "pygments_lexer": "ipython3",
   "version": "3.8.2"
  }
 },
 "nbformat": 4,
 "nbformat_minor": 5
}
